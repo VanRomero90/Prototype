{
  "nbformat": 4,
  "nbformat_minor": 0,
  "metadata": {
    "colab": {
      "name": "Tendenciasdecompra.ipynb",
      "provenance": [],
      "mount_file_id": "1oBLgfqR2IP4xZJ549dB_hesFc2g72nrz",
      "authorship_tag": "ABX9TyOJy+/qH9bYLYC6EglsfjYj",
      "include_colab_link": true
    },
    "kernelspec": {
      "name": "python3",
      "display_name": "Python 3"
    },
    "language_info": {
      "name": "python"
    }
  },
  "cells": [
    {
      "cell_type": "markdown",
      "metadata": {
        "id": "view-in-github",
        "colab_type": "text"
      },
      "source": [
        "<a href=\"https://colab.research.google.com/github/VanRomero90/Prototype/blob/main/Tendenciasdecompra.ipynb\" target=\"_parent\"><img src=\"https://colab.research.google.com/assets/colab-badge.svg\" alt=\"Open In Colab\"/></a>"
      ]
    },
    {
      "cell_type": "markdown",
      "metadata": {
        "id": "W5bRS2OOIKWb"
      },
      "source": [
        "**Importar DataFrame**"
      ]
    },
    {
      "cell_type": "code",
      "metadata": {
        "colab": {
          "base_uri": "https://localhost:8080/"
        },
        "id": "ye0h7k-vnNk_",
        "outputId": "a457facc-2a9d-4f80-80ff-74bfccd1ba85"
      },
      "source": [
        "import pandas as pd\n",
        "import numpy as np\n",
        "df = pd.read_csv('/content/drive/MyDrive/CheckPoint/OCdef.csv', sep=',')\n",
        "df.shape"
      ],
      "execution_count": 133,
      "outputs": [
        {
          "output_type": "execute_result",
          "data": {
            "text/plain": [
              "(120413, 17)"
            ]
          },
          "metadata": {
            "tags": []
          },
          "execution_count": 133
        }
      ]
    },
    {
      "cell_type": "code",
      "metadata": {
        "id": "JMV-nprfoRf_"
      },
      "source": [
        "df.head(5)"
      ],
      "execution_count": null,
      "outputs": []
    },
    {
      "cell_type": "markdown",
      "metadata": {
        "id": "dBclD0rHIlsw"
      },
      "source": [
        "**LIMPIAR NAN**"
      ]
    },
    {
      "cell_type": "code",
      "metadata": {
        "id": "HUlFwiDWoUwh"
      },
      "source": [
        "df.isna().sum()"
      ],
      "execution_count": null,
      "outputs": []
    },
    {
      "cell_type": "code",
      "metadata": {
        "id": "fIoEatxsoVv-"
      },
      "source": [
        "df2 = df.drop(columns=['num_pedido','no_cesta'])\n",
        "df2.isna().sum()"
      ],
      "execution_count": null,
      "outputs": []
    },
    {
      "cell_type": "code",
      "metadata": {
        "id": "IcjeuNA_ob4u"
      },
      "source": [
        "df2['proveedor'] = df2['proveedor'].fillna('0')\n",
        "df2['condic_pago'] = df2['condic_pago'].fillna('Sin Condic')\n",
        "df2['no_material'] = df2['no_material'].fillna('0')\n",
        "df2['org_compras'] = df2['org_compras'].fillna('Unknown')\n",
        "df2['solicitante'] = df2['solicitante'].fillna('Unknown')\n",
        "df2.isna().sum()"
      ],
      "execution_count": null,
      "outputs": []
    },
    {
      "cell_type": "code",
      "metadata": {
        "id": "B0cNpOQVQcje"
      },
      "source": [
        "df2['proveedor'] = df2['proveedor'].astype(int)"
      ],
      "execution_count": 192,
      "outputs": []
    },
    {
      "cell_type": "code",
      "metadata": {
        "colab": {
          "base_uri": "https://localhost:8080/"
        },
        "id": "lInhUNltoe3R",
        "outputId": "18198d6e-5e81-44a1-e9eb-e0111a04d8d4"
      },
      "source": [
        "df2.shape"
      ],
      "execution_count": 193,
      "outputs": [
        {
          "output_type": "execute_result",
          "data": {
            "text/plain": [
              "(120413, 15)"
            ]
          },
          "metadata": {
            "tags": []
          },
          "execution_count": 193
        }
      ]
    },
    {
      "cell_type": "code",
      "metadata": {
        "id": "XO_DHTOroknj"
      },
      "source": [
        "df2.head(5)"
      ],
      "execution_count": null,
      "outputs": []
    },
    {
      "cell_type": "markdown",
      "metadata": {
        "id": "Slo_eU2qIxEg"
      },
      "source": [
        "**IMPORTAR DATAFRAME CON CENTROS DE COSTOS**"
      ]
    },
    {
      "cell_type": "code",
      "metadata": {
        "id": "5GvOZSeSo7Gd"
      },
      "source": [
        "cecos = pd.read_csv('/content/drive/MyDrive/CheckPoint/OC_CECO.csv', sep=',')"
      ],
      "execution_count": 195,
      "outputs": []
    },
    {
      "cell_type": "markdown",
      "metadata": {
        "id": "raF3LY7hI9v_"
      },
      "source": [
        "**MERGE OC con CECOS**"
      ]
    },
    {
      "cell_type": "code",
      "metadata": {
        "colab": {
          "base_uri": "https://localhost:8080/",
          "height": 656
        },
        "id": "1B8chvRpuc33",
        "outputId": "2741f935-fd28-488b-98a7-0bd84086ec82"
      },
      "source": [
        "df_ceco = pd.merge(left=df2,right=cecos, how='left', left_on='oc', right_on='oc')\n",
        "df_ceco"
      ],
      "execution_count": 196,
      "outputs": [
        {
          "output_type": "execute_result",
          "data": {
            "text/html": [
              "<div>\n",
              "<style scoped>\n",
              "    .dataframe tbody tr th:only-of-type {\n",
              "        vertical-align: middle;\n",
              "    }\n",
              "\n",
              "    .dataframe tbody tr th {\n",
              "        vertical-align: top;\n",
              "    }\n",
              "\n",
              "    .dataframe thead th {\n",
              "        text-align: right;\n",
              "    }\n",
              "</style>\n",
              "<table border=\"1\" class=\"dataframe\">\n",
              "  <thead>\n",
              "    <tr style=\"text-align: right;\">\n",
              "      <th></th>\n",
              "      <th>oc</th>\n",
              "      <th>sociedad</th>\n",
              "      <th>fecha_oc</th>\n",
              "      <th>usuario</th>\n",
              "      <th>proveedor</th>\n",
              "      <th>condic_pago</th>\n",
              "      <th>moneda</th>\n",
              "      <th>costo_total_OC</th>\n",
              "      <th>tipo_pedido</th>\n",
              "      <th>cto_total</th>\n",
              "      <th>no_material</th>\n",
              "      <th>material</th>\n",
              "      <th>ctd_pedido</th>\n",
              "      <th>org_compras</th>\n",
              "      <th>solicitante</th>\n",
              "      <th>ceco</th>\n",
              "    </tr>\n",
              "  </thead>\n",
              "  <tbody>\n",
              "    <tr>\n",
              "      <th>0</th>\n",
              "      <td>4513263281</td>\n",
              "      <td>MX16</td>\n",
              "      <td>23/09/2020</td>\n",
              "      <td>RBTRFC00GE4</td>\n",
              "      <td>100907320</td>\n",
              "      <td>Z001</td>\n",
              "      <td>MXN</td>\n",
              "      <td>0.0</td>\n",
              "      <td>ZME</td>\n",
              "      <td>36568.00</td>\n",
              "      <td>5e+07</td>\n",
              "      <td>MIXTO</td>\n",
              "      <td>6.530</td>\n",
              "      <td>Unknown</td>\n",
              "      <td>Unknown</td>\n",
              "      <td>NaN</td>\n",
              "    </tr>\n",
              "    <tr>\n",
              "      <th>1</th>\n",
              "      <td>4513269117</td>\n",
              "      <td>MX16</td>\n",
              "      <td>23/09/2020</td>\n",
              "      <td>RBTRFC00GE4</td>\n",
              "      <td>100791430</td>\n",
              "      <td>Z001</td>\n",
              "      <td>MXN</td>\n",
              "      <td>0.0</td>\n",
              "      <td>ZME</td>\n",
              "      <td>43893.30</td>\n",
              "      <td>5.3e+07</td>\n",
              "      <td>ACOP - MIXTO P/PROCESAR</td>\n",
              "      <td>8.490</td>\n",
              "      <td>Unknown</td>\n",
              "      <td>Unknown</td>\n",
              "      <td>NaN</td>\n",
              "    </tr>\n",
              "    <tr>\n",
              "      <th>2</th>\n",
              "      <td>4513264639</td>\n",
              "      <td>MX16</td>\n",
              "      <td>23/09/2020</td>\n",
              "      <td>RBTRFC00GE4</td>\n",
              "      <td>101007135</td>\n",
              "      <td>Z001</td>\n",
              "      <td>MXN</td>\n",
              "      <td>0.0</td>\n",
              "      <td>ZME</td>\n",
              "      <td>64792.00</td>\n",
              "      <td>5.3e+07</td>\n",
              "      <td>ACOP - MIXTO P/PROCESAR</td>\n",
              "      <td>12.460</td>\n",
              "      <td>Unknown</td>\n",
              "      <td>Unknown</td>\n",
              "      <td>NaN</td>\n",
              "    </tr>\n",
              "    <tr>\n",
              "      <th>3</th>\n",
              "      <td>4513266527</td>\n",
              "      <td>MX16</td>\n",
              "      <td>23/09/2020</td>\n",
              "      <td>RBTRFC00GE4</td>\n",
              "      <td>100793078</td>\n",
              "      <td>Z001</td>\n",
              "      <td>MXN</td>\n",
              "      <td>0.0</td>\n",
              "      <td>ZME</td>\n",
              "      <td>35961.70</td>\n",
              "      <td>5.3e+07</td>\n",
              "      <td>ACOP - MIXTO P/PROCESAR</td>\n",
              "      <td>6.635</td>\n",
              "      <td>Unknown</td>\n",
              "      <td>Unknown</td>\n",
              "      <td>NaN</td>\n",
              "    </tr>\n",
              "    <tr>\n",
              "      <th>4</th>\n",
              "      <td>4513265663</td>\n",
              "      <td>MX16</td>\n",
              "      <td>23/09/2020</td>\n",
              "      <td>RBTRFC00GE4</td>\n",
              "      <td>100782339</td>\n",
              "      <td>Z001</td>\n",
              "      <td>MXN</td>\n",
              "      <td>0.0</td>\n",
              "      <td>ZME</td>\n",
              "      <td>21915.00</td>\n",
              "      <td>5.3e+07</td>\n",
              "      <td>ACOP - REBABA ACERO</td>\n",
              "      <td>4.500</td>\n",
              "      <td>Unknown</td>\n",
              "      <td>Unknown</td>\n",
              "      <td>NaN</td>\n",
              "    </tr>\n",
              "    <tr>\n",
              "      <th>...</th>\n",
              "      <td>...</td>\n",
              "      <td>...</td>\n",
              "      <td>...</td>\n",
              "      <td>...</td>\n",
              "      <td>...</td>\n",
              "      <td>...</td>\n",
              "      <td>...</td>\n",
              "      <td>...</td>\n",
              "      <td>...</td>\n",
              "      <td>...</td>\n",
              "      <td>...</td>\n",
              "      <td>...</td>\n",
              "      <td>...</td>\n",
              "      <td>...</td>\n",
              "      <td>...</td>\n",
              "      <td>...</td>\n",
              "    </tr>\n",
              "    <tr>\n",
              "      <th>120408</th>\n",
              "      <td>4512255290</td>\n",
              "      <td>MX16</td>\n",
              "      <td>15/01/2020</td>\n",
              "      <td>JLOPEZ10</td>\n",
              "      <td>100791430</td>\n",
              "      <td>Z001</td>\n",
              "      <td>MXN</td>\n",
              "      <td>0.0</td>\n",
              "      <td>ZME</td>\n",
              "      <td>14549.85</td>\n",
              "      <td>5.3e+07</td>\n",
              "      <td>ACOP - MIXTO P/PROCESAR</td>\n",
              "      <td>3.255</td>\n",
              "      <td>Unknown</td>\n",
              "      <td>Unknown</td>\n",
              "      <td>NaN</td>\n",
              "    </tr>\n",
              "    <tr>\n",
              "      <th>120409</th>\n",
              "      <td>4512262923</td>\n",
              "      <td>MX16</td>\n",
              "      <td>16/01/2020</td>\n",
              "      <td>JLOPEZ10</td>\n",
              "      <td>0</td>\n",
              "      <td>Sin Condic</td>\n",
              "      <td>MXN</td>\n",
              "      <td>0.0</td>\n",
              "      <td>ZMTR</td>\n",
              "      <td>92204.87</td>\n",
              "      <td>5e+07</td>\n",
              "      <td>MIXTO</td>\n",
              "      <td>28.940</td>\n",
              "      <td>Unknown</td>\n",
              "      <td>Unknown</td>\n",
              "      <td>NaN</td>\n",
              "    </tr>\n",
              "    <tr>\n",
              "      <th>120410</th>\n",
              "      <td>4512252188</td>\n",
              "      <td>MX16</td>\n",
              "      <td>14/01/2020</td>\n",
              "      <td>MCID1</td>\n",
              "      <td>100840113</td>\n",
              "      <td>Z001</td>\n",
              "      <td>MXN</td>\n",
              "      <td>0.0</td>\n",
              "      <td>ZME</td>\n",
              "      <td>7920.00</td>\n",
              "      <td>5.3e+07</td>\n",
              "      <td>ACOP - MIXTO P/PROCESAR</td>\n",
              "      <td>1.800</td>\n",
              "      <td>Unknown</td>\n",
              "      <td>Unknown</td>\n",
              "      <td>NaN</td>\n",
              "    </tr>\n",
              "    <tr>\n",
              "      <th>120411</th>\n",
              "      <td>4512253341</td>\n",
              "      <td>MX16</td>\n",
              "      <td>15/01/2020</td>\n",
              "      <td>JMARTI13</td>\n",
              "      <td>100717197</td>\n",
              "      <td>Z001</td>\n",
              "      <td>MXN</td>\n",
              "      <td>0.0</td>\n",
              "      <td>ZME</td>\n",
              "      <td>163165.50</td>\n",
              "      <td>5e+07</td>\n",
              "      <td>MIXTO</td>\n",
              "      <td>32.310</td>\n",
              "      <td>Unknown</td>\n",
              "      <td>Unknown</td>\n",
              "      <td>NaN</td>\n",
              "    </tr>\n",
              "    <tr>\n",
              "      <th>120412</th>\n",
              "      <td>4512262918</td>\n",
              "      <td>MX16</td>\n",
              "      <td>16/01/2020</td>\n",
              "      <td>JLOPEZ10</td>\n",
              "      <td>100954083</td>\n",
              "      <td>Z001</td>\n",
              "      <td>MXN</td>\n",
              "      <td>0.0</td>\n",
              "      <td>ZME</td>\n",
              "      <td>6363.50</td>\n",
              "      <td>5.3e+07</td>\n",
              "      <td>ACOP - MIXTO P/PROCESAR</td>\n",
              "      <td>1.430</td>\n",
              "      <td>Unknown</td>\n",
              "      <td>Unknown</td>\n",
              "      <td>NaN</td>\n",
              "    </tr>\n",
              "  </tbody>\n",
              "</table>\n",
              "<p>120413 rows × 16 columns</p>\n",
              "</div>"
            ],
            "text/plain": [
              "                oc sociedad    fecha_oc  ... org_compras  solicitante ceco\n",
              "0       4513263281     MX16  23/09/2020  ...     Unknown      Unknown  NaN\n",
              "1       4513269117     MX16  23/09/2020  ...     Unknown      Unknown  NaN\n",
              "2       4513264639     MX16  23/09/2020  ...     Unknown      Unknown  NaN\n",
              "3       4513266527     MX16  23/09/2020  ...     Unknown      Unknown  NaN\n",
              "4       4513265663     MX16  23/09/2020  ...     Unknown      Unknown  NaN\n",
              "...            ...      ...         ...  ...         ...          ...  ...\n",
              "120408  4512255290     MX16  15/01/2020  ...     Unknown      Unknown  NaN\n",
              "120409  4512262923     MX16  16/01/2020  ...     Unknown      Unknown  NaN\n",
              "120410  4512252188     MX16  14/01/2020  ...     Unknown      Unknown  NaN\n",
              "120411  4512253341     MX16  15/01/2020  ...     Unknown      Unknown  NaN\n",
              "120412  4512262918     MX16  16/01/2020  ...     Unknown      Unknown  NaN\n",
              "\n",
              "[120413 rows x 16 columns]"
            ]
          },
          "metadata": {
            "tags": []
          },
          "execution_count": 196
        }
      ]
    },
    {
      "cell_type": "markdown",
      "metadata": {
        "id": "pWnIyyMWJST3"
      },
      "source": [
        "**INCLUIR CECOS**"
      ]
    },
    {
      "cell_type": "code",
      "metadata": {
        "id": "frJgHq4DvDxc"
      },
      "source": [
        "df_ceco['ceco'] = df_ceco['ceco'].fillna('0')"
      ],
      "execution_count": 197,
      "outputs": []
    },
    {
      "cell_type": "code",
      "metadata": {
        "id": "iDAlzlGhvSLB"
      },
      "source": [
        "df_ceco.isna().sum"
      ],
      "execution_count": null,
      "outputs": []
    },
    {
      "cell_type": "code",
      "metadata": {
        "id": "-JrA33oARQLG"
      },
      "source": [
        "desc_cecos=pd.read_csv('/content/drive/MyDrive/CheckPoint/Desc_ceco2.csv', encoding = \"ISO-8859-1\")\n"
      ],
      "execution_count": 199,
      "outputs": []
    },
    {
      "cell_type": "code",
      "metadata": {
        "id": "CV4XzPpQjhC6"
      },
      "source": [
        "desc_cecosd = desc_cecos.drop(columns=['sociedad'])"
      ],
      "execution_count": 200,
      "outputs": []
    },
    {
      "cell_type": "code",
      "metadata": {
        "id": "KSs6VgFvlNmj"
      },
      "source": [
        "df_ccompra = pd.merge(left=df_ceco,right=desc_cecosd, how='left', left_on='ceco', right_on='ceco')\n",
        "df_ccompra.head(3)"
      ],
      "execution_count": null,
      "outputs": []
    },
    {
      "cell_type": "code",
      "metadata": {
        "colab": {
          "base_uri": "https://localhost:8080/"
        },
        "id": "uFKmZL28l-ws",
        "outputId": "914d9d7b-d89b-4998-8306-11b1e7af111b"
      },
      "source": [
        "df_ccompra['descripción'] = df_ccompra['descripción'].fillna('Sin CeCo')\n",
        "df2.isna().sum()"
      ],
      "execution_count": 203,
      "outputs": [
        {
          "output_type": "execute_result",
          "data": {
            "text/plain": [
              "oc                0\n",
              "sociedad          0\n",
              "fecha_oc          0\n",
              "usuario           0\n",
              "proveedor         0\n",
              "condic_pago       0\n",
              "moneda            0\n",
              "costo_total_OC    0\n",
              "tipo_pedido       0\n",
              "cto_total         0\n",
              "no_material       0\n",
              "material          0\n",
              "ctd_pedido        0\n",
              "org_compras       0\n",
              "solicitante       0\n",
              "dtype: int64"
            ]
          },
          "metadata": {
            "tags": []
          },
          "execution_count": 203
        }
      ]
    },
    {
      "cell_type": "markdown",
      "metadata": {
        "id": "HPnt9eX3OHrr"
      },
      "source": [
        "\n",
        "**DEFINIR  DATOS**"
      ]
    },
    {
      "cell_type": "code",
      "metadata": {
        "id": "sNKTDeuRLgoA"
      },
      "source": [
        "df_ccompra['fecha_oc'] = pd.to_datetime(df_ccompra['fecha_oc'])"
      ],
      "execution_count": 204,
      "outputs": []
    },
    {
      "cell_type": "code",
      "metadata": {
        "id": "qhAcqkluZXd4"
      },
      "source": [
        "df_time= df_ccompra.sort_values('fecha_oc', ascending=True)"
      ],
      "execution_count": 205,
      "outputs": []
    },
    {
      "cell_type": "code",
      "metadata": {
        "id": "PbYrx1AnNQ2c"
      },
      "source": [
        "df_time.reset_index"
      ],
      "execution_count": null,
      "outputs": []
    },
    {
      "cell_type": "markdown",
      "metadata": {
        "id": "Y8HU4khLOjXp"
      },
      "source": [
        "**Limpieza de Usuarios**"
      ]
    },
    {
      "cell_type": "code",
      "metadata": {
        "id": "dgKg4do-2eXO"
      },
      "source": [
        "df_time['usuario'].value_counts()"
      ],
      "execution_count": null,
      "outputs": []
    },
    {
      "cell_type": "code",
      "metadata": {
        "id": "8eIWPOIaaSGB"
      },
      "source": [
        "df_filtrado = df_time[~df_time['usuario'].str.contains('RBTRFC00GE4')] "
      ],
      "execution_count": 208,
      "outputs": []
    },
    {
      "cell_type": "code",
      "metadata": {
        "id": "dsUibVbtoDf3"
      },
      "source": [
        "df_filtrado['usuario'].value_counts()"
      ],
      "execution_count": null,
      "outputs": []
    },
    {
      "cell_type": "code",
      "metadata": {
        "colab": {
          "base_uri": "https://localhost:8080/"
        },
        "id": "H0QRNQPMXIub",
        "outputId": "8cea83bd-4a06-44eb-c7ab-8e95fa27b224"
      },
      "source": [
        "df_filtrado.shape                         "
      ],
      "execution_count": 210,
      "outputs": [
        {
          "output_type": "execute_result",
          "data": {
            "text/plain": [
              "(78460, 17)"
            ]
          },
          "metadata": {
            "tags": []
          },
          "execution_count": 210
        }
      ]
    },
    {
      "cell_type": "markdown",
      "metadata": {
        "id": "68-gg42Tqsfh"
      },
      "source": [
        "**Tipo de pedido**"
      ]
    },
    {
      "cell_type": "code",
      "metadata": {
        "id": "qldopOizsm95"
      },
      "source": [
        "desc_ped=pd.read_csv('/content/drive/MyDrive/CheckPoint/Tipos de Pedido.csv', encoding = \"ISO-8859-1\")\n",
        "df_filtrado = pd.merge(left=df_filtrado,right=desc_ped, how='left', left_on='tipo_pedido', right_on='condic_pago')\n",
        "df_filtrado.head(50)"
      ],
      "execution_count": null,
      "outputs": []
    },
    {
      "cell_type": "code",
      "metadata": {
        "id": "iEc1YhM5okY6"
      },
      "source": [
        "df_filtrado2 = df_filtrado[~df_filtrado['tipo_pedido'].str.contains('ZME')] "
      ],
      "execution_count": 212,
      "outputs": []
    },
    {
      "cell_type": "code",
      "metadata": {
        "id": "9GaxCsBEtjAF"
      },
      "source": [
        "df_filtrado3 = df_filtrado2[~df_filtrado2['tipo_pedido'].str.contains('ZMTR')] "
      ],
      "execution_count": 213,
      "outputs": []
    },
    {
      "cell_type": "code",
      "metadata": {
        "id": "nKrLpwr5t0vk"
      },
      "source": [
        "df_filtrado4 = df_filtrado3[~df_filtrado3['tipo_pedido'].str.contains('ZTR3')] "
      ],
      "execution_count": 214,
      "outputs": []
    },
    {
      "cell_type": "code",
      "metadata": {
        "id": "FnVrFYhvuGy4"
      },
      "source": [
        "df_filtrado5 = df_filtrado4[~df_filtrado4['tipo_pedido'].str.contains('ZMTE')] "
      ],
      "execution_count": 215,
      "outputs": []
    },
    {
      "cell_type": "code",
      "metadata": {
        "id": "XDS_8piCulxu"
      },
      "source": [
        "df_filtrado6 = df_filtrado5[~df_filtrado5['tipo_pedido'].str.contains('ZTR2')] "
      ],
      "execution_count": 216,
      "outputs": []
    },
    {
      "cell_type": "code",
      "metadata": {
        "id": "hCGG6UOCbp1n"
      },
      "source": [
        "df_costos = df_filtrado6[df_filtrado6['cto_total'] > 0]"
      ],
      "execution_count": 217,
      "outputs": []
    },
    {
      "cell_type": "code",
      "metadata": {
        "colab": {
          "base_uri": "https://localhost:8080/"
        },
        "id": "MwQhqsA_vAkp",
        "outputId": "62b44dde-6c50-4156-9a57-9950a3fbab05"
      },
      "source": [
        "df_costos.shape"
      ],
      "execution_count": 218,
      "outputs": [
        {
          "output_type": "execute_result",
          "data": {
            "text/plain": [
              "(57800, 19)"
            ]
          },
          "metadata": {
            "tags": []
          },
          "execution_count": 218
        }
      ]
    },
    {
      "cell_type": "code",
      "metadata": {
        "id": "2BFlpXz6znxX"
      },
      "source": [
        "df_costos.head(8)"
      ],
      "execution_count": null,
      "outputs": []
    },
    {
      "cell_type": "code",
      "metadata": {
        "id": "j7vozMxjn-ct"
      },
      "source": [
        "df_costos = df_costos.reset_index(drop=True)"
      ],
      "execution_count": 221,
      "outputs": []
    },
    {
      "cell_type": "code",
      "metadata": {
        "id": "xkZUqRDu2tQK"
      },
      "source": [
        "df_usd= df_costos[df_costos['moneda'].str.contains('USD')] "
      ],
      "execution_count": 222,
      "outputs": []
    },
    {
      "cell_type": "code",
      "metadata": {
        "id": "Rk8AJsY7uM3L"
      },
      "source": [
        "df_eur= df_costos[df_costos['moneda'].str.contains('EUR')] "
      ],
      "execution_count": 223,
      "outputs": []
    },
    {
      "cell_type": "code",
      "metadata": {
        "id": "J2wGc8zHuZ69"
      },
      "source": [
        "df_mxn= df_costos[df_costos['moneda'].str.contains('MXN')] "
      ],
      "execution_count": 224,
      "outputs": []
    },
    {
      "cell_type": "code",
      "metadata": {
        "colab": {
          "base_uri": "https://localhost:8080/",
          "height": 387
        },
        "id": "LMbCZsCgJp55",
        "outputId": "d7e9aeb8-214b-4473-b2b5-d14fdee9659f"
      },
      "source": [
        "df_mxn.head(4)"
      ],
      "execution_count": 225,
      "outputs": [
        {
          "output_type": "execute_result",
          "data": {
            "text/html": [
              "<div>\n",
              "<style scoped>\n",
              "    .dataframe tbody tr th:only-of-type {\n",
              "        vertical-align: middle;\n",
              "    }\n",
              "\n",
              "    .dataframe tbody tr th {\n",
              "        vertical-align: top;\n",
              "    }\n",
              "\n",
              "    .dataframe thead th {\n",
              "        text-align: right;\n",
              "    }\n",
              "</style>\n",
              "<table border=\"1\" class=\"dataframe\">\n",
              "  <thead>\n",
              "    <tr style=\"text-align: right;\">\n",
              "      <th></th>\n",
              "      <th>oc</th>\n",
              "      <th>sociedad</th>\n",
              "      <th>fecha_oc</th>\n",
              "      <th>usuario</th>\n",
              "      <th>proveedor</th>\n",
              "      <th>condic_pago_x</th>\n",
              "      <th>moneda</th>\n",
              "      <th>costo_total_OC</th>\n",
              "      <th>tipo_pedido</th>\n",
              "      <th>cto_total</th>\n",
              "      <th>no_material</th>\n",
              "      <th>material</th>\n",
              "      <th>ctd_pedido</th>\n",
              "      <th>org_compras</th>\n",
              "      <th>solicitante</th>\n",
              "      <th>ceco</th>\n",
              "      <th>descripción</th>\n",
              "      <th>condic_pago_y</th>\n",
              "      <th>Desc_ped</th>\n",
              "    </tr>\n",
              "  </thead>\n",
              "  <tbody>\n",
              "    <tr>\n",
              "      <th>0</th>\n",
              "      <td>4512333669</td>\n",
              "      <td>MX16</td>\n",
              "      <td>2020-01-02</td>\n",
              "      <td>OPERACAO</td>\n",
              "      <td>100002127</td>\n",
              "      <td>Z090</td>\n",
              "      <td>MXN</td>\n",
              "      <td>0.0</td>\n",
              "      <td>ZNB</td>\n",
              "      <td>25800.00</td>\n",
              "      <td>1.00105e+07</td>\n",
              "      <td>TRAPO DE 1RA., ALGODON, CORTE CAMISETA</td>\n",
              "      <td>1000.0</td>\n",
              "      <td>PR03</td>\n",
              "      <td>JOSEMONT</td>\n",
              "      <td>0</td>\n",
              "      <td>Sin CeCo</td>\n",
              "      <td>ZNB</td>\n",
              "      <td>Pedido Auto -eco</td>\n",
              "    </tr>\n",
              "    <tr>\n",
              "      <th>2</th>\n",
              "      <td>4512333706</td>\n",
              "      <td>MX16</td>\n",
              "      <td>2020-01-02</td>\n",
              "      <td>OPERACAO</td>\n",
              "      <td>100333269</td>\n",
              "      <td>Z090</td>\n",
              "      <td>MXN</td>\n",
              "      <td>0.0</td>\n",
              "      <td>ZNB</td>\n",
              "      <td>1005.00</td>\n",
              "      <td>1.00004e+07</td>\n",
              "      <td>ANILLO O-RING 2-224</td>\n",
              "      <td>300.0</td>\n",
              "      <td>PR03</td>\n",
              "      <td>JOSEMONT</td>\n",
              "      <td>0</td>\n",
              "      <td>Sin CeCo</td>\n",
              "      <td>ZNB</td>\n",
              "      <td>Pedido Auto -eco</td>\n",
              "    </tr>\n",
              "    <tr>\n",
              "      <th>3</th>\n",
              "      <td>4512333521</td>\n",
              "      <td>MX16</td>\n",
              "      <td>2020-01-02</td>\n",
              "      <td>OPERACAO</td>\n",
              "      <td>100330604</td>\n",
              "      <td>Z010</td>\n",
              "      <td>MXN</td>\n",
              "      <td>0.0</td>\n",
              "      <td>ZNB</td>\n",
              "      <td>6028.42</td>\n",
              "      <td>0</td>\n",
              "      <td>Automatic Generation - Freight Service</td>\n",
              "      <td>1.0</td>\n",
              "      <td>Unknown</td>\n",
              "      <td>Unknown</td>\n",
              "      <td>0</td>\n",
              "      <td>Sin CeCo</td>\n",
              "      <td>ZNB</td>\n",
              "      <td>Pedido Auto -eco</td>\n",
              "    </tr>\n",
              "    <tr>\n",
              "      <th>5</th>\n",
              "      <td>4512333517</td>\n",
              "      <td>MX16</td>\n",
              "      <td>2020-01-02</td>\n",
              "      <td>OPERACAO</td>\n",
              "      <td>100674092</td>\n",
              "      <td>Z011</td>\n",
              "      <td>MXN</td>\n",
              "      <td>0.0</td>\n",
              "      <td>ZNB</td>\n",
              "      <td>5925.81</td>\n",
              "      <td>0</td>\n",
              "      <td>Automatic Generation - Freight Service</td>\n",
              "      <td>1.0</td>\n",
              "      <td>Unknown</td>\n",
              "      <td>Unknown</td>\n",
              "      <td>0</td>\n",
              "      <td>Sin CeCo</td>\n",
              "      <td>ZNB</td>\n",
              "      <td>Pedido Auto -eco</td>\n",
              "    </tr>\n",
              "  </tbody>\n",
              "</table>\n",
              "</div>"
            ],
            "text/plain": [
              "           oc sociedad   fecha_oc  ... descripción  condic_pago_y          Desc_ped\n",
              "0  4512333669     MX16 2020-01-02  ...    Sin CeCo            ZNB  Pedido Auto -eco\n",
              "2  4512333706     MX16 2020-01-02  ...    Sin CeCo            ZNB  Pedido Auto -eco\n",
              "3  4512333521     MX16 2020-01-02  ...    Sin CeCo            ZNB  Pedido Auto -eco\n",
              "5  4512333517     MX16 2020-01-02  ...    Sin CeCo            ZNB  Pedido Auto -eco\n",
              "\n",
              "[4 rows x 19 columns]"
            ]
          },
          "metadata": {
            "tags": []
          },
          "execution_count": 225
        }
      ]
    },
    {
      "cell_type": "code",
      "metadata": {
        "id": "hgiY2ymQxtga"
      },
      "source": [
        "df_group_ceco=df_mxn.groupby(['ceco','proveedor'])['cto_total'].agg('sum')"
      ],
      "execution_count": 226,
      "outputs": []
    },
    {
      "cell_type": "code",
      "metadata": {
        "colab": {
          "base_uri": "https://localhost:8080/"
        },
        "id": "IMuddd37DIdI",
        "outputId": "78ff70b4-7df0-4154-de13-1051cf56a33e"
      },
      "source": [
        "df_group_ceco.head(8)"
      ],
      "execution_count": 227,
      "outputs": [
        {
          "output_type": "execute_result",
          "data": {
            "text/plain": [
              "ceco          proveedor\n",
              "1.203002e+09  100000516    2080672.39\n",
              "              100001375       4795.00\n",
              "              100001578     142830.00\n",
              "              100050798      27226.00\n",
              "              100322490      35248.00\n",
              "              100345876    3085628.13\n",
              "              100347383    1903776.39\n",
              "              100354245       2089.34\n",
              "Name: cto_total, dtype: float64"
            ]
          },
          "metadata": {
            "tags": []
          },
          "execution_count": 227
        }
      ]
    },
    {
      "cell_type": "code",
      "metadata": {
        "id": "y8jtHtLMwW2-"
      },
      "source": [
        "df_group_usuario=df_mxn.groupby(['usuario','proveedor'])['cto_total'].agg('sum')"
      ],
      "execution_count": 228,
      "outputs": []
    },
    {
      "cell_type": "code",
      "metadata": {
        "colab": {
          "base_uri": "https://localhost:8080/"
        },
        "id": "GkS3ZATFwrCV",
        "outputId": "83478920-12cb-4ccd-f62f-f6e670317e23"
      },
      "source": [
        "df_group_usuario.head(8)"
      ],
      "execution_count": 229,
      "outputs": [
        {
          "output_type": "execute_result",
          "data": {
            "text/plain": [
              "usuario   proveedor\n",
              "AAGUILER  100990568    4.381520e+03\n",
              "AAVILA3   100360285    5.183814e+05\n",
              "AAVILES   100001542    1.646625e+05\n",
              "          100456766    1.417361e+06\n",
              "          100481175    2.871449e+07\n",
              "          100731588    2.947700e+08\n",
              "          100800424    9.582132e+07\n",
              "          100843123    2.011550e+08\n",
              "Name: cto_total, dtype: float64"
            ]
          },
          "metadata": {
            "tags": []
          },
          "execution_count": 229
        }
      ]
    },
    {
      "cell_type": "code",
      "metadata": {
        "id": "3gqPXK7_w5Mz"
      },
      "source": [
        "df_group_pedido=df_mxn.groupby(['tipo_pedido','usuario'])['cto_total'].agg('sum')"
      ],
      "execution_count": 230,
      "outputs": []
    },
    {
      "cell_type": "code",
      "metadata": {
        "colab": {
          "base_uri": "https://localhost:8080/"
        },
        "id": "s8r-jiLCxFt1",
        "outputId": "1bd1a6c1-ed52-4074-eb10-f8b3107335ad"
      },
      "source": [
        "df_group_pedido.head"
      ],
      "execution_count": 231,
      "outputs": [
        {
          "output_type": "execute_result",
          "data": {
            "text/plain": [
              "<bound method NDFrame.head of tipo_pedido  usuario \n",
              "NB           AHERNAN1       68935.00\n",
              "             INIETO         14700.00\n",
              "             LTREJO      16002526.72\n",
              "             NORAMOS        27993.60\n",
              "ZDE          AHERNAN1     1063536.07\n",
              "                            ...     \n",
              "ZPE          JMORALE1     3472720.04\n",
              "             LNAVARR1    41674839.20\n",
              "             NHERNAN3     3157013.98\n",
              "             SIDARG      11886415.61\n",
              "ZTRT         LTREJO         58837.38\n",
              "Name: cto_total, Length: 138, dtype: float64>"
            ]
          },
          "metadata": {
            "tags": []
          },
          "execution_count": 231
        }
      ]
    },
    {
      "cell_type": "code",
      "metadata": {
        "id": "DWcT8qV_2HrO"
      },
      "source": [
        "df_group_tipopes=df_mxn.groupby(['tipo_pedido'])['cto_total'].agg('sum')"
      ],
      "execution_count": 233,
      "outputs": []
    },
    {
      "cell_type": "markdown",
      "metadata": {
        "id": "cvRBqdfww_0n"
      },
      "source": [
        "**Graficar**"
      ]
    },
    {
      "cell_type": "code",
      "metadata": {
        "id": "CG5StqXLxPAt"
      },
      "source": [
        "import matplotlib.pyplot as plt\n",
        "import seaborn as sns"
      ],
      "execution_count": 184,
      "outputs": []
    },
    {
      "cell_type": "code",
      "metadata": {
        "colab": {
          "base_uri": "https://localhost:8080/",
          "height": 324
        },
        "id": "lhcc9YXmxC5A",
        "outputId": "59a37e61-abb1-48c1-886c-dd37fcdd409a"
      },
      "source": [
        "df_mxn.groupby(['tipo_pedido'])['cto_total'].agg('sum').plot(kind='bar',legend='Reverse')\n",
        "plt.xlabel('Tipo_Pedido') \n",
        "plt.ylabel('Importe Imputado')"
      ],
      "execution_count": 235,
      "outputs": [
        {
          "output_type": "execute_result",
          "data": {
            "text/plain": [
              "Text(0, 0.5, 'Importe Imputado')"
            ]
          },
          "metadata": {
            "tags": []
          },
          "execution_count": 235
        },
        {
          "output_type": "display_data",
          "data": {
            "image/png": "[encoded data removed]",
            "text/plain": [
              "<Figure size 432x288 with 1 Axes>"
            ]
          },
          "metadata": {
            "tags": [],
            "needs_background": "light"
          }
        }
      ]
    },
    {
      "cell_type": "code",
      "metadata": {
        "colab": {
          "base_uri": "https://localhost:8080/"
        },
        "id": "X-uNkTgWxNx3",
        "outputId": "b44ab445-f5f3-4040-bb55-ef226d09879f"
      },
      "source": [
        "importe_imp = df_mxn['cto_total']\n",
        "importe_imp.max() - importe_imp.min()"
      ],
      "execution_count": 237,
      "outputs": [
        {
          "output_type": "execute_result",
          "data": {
            "text/plain": [
              "27499999.99"
            ]
          },
          "metadata": {
            "tags": []
          },
          "execution_count": 237
        }
      ]
    },
    {
      "cell_type": "code",
      "metadata": {
        "colab": {
          "base_uri": "https://localhost:8080/"
        },
        "id": "7AtjjehK4m-J",
        "outputId": "63226238-7ced-4754-aa9f-27140ad72067"
      },
      "source": [
        "\n",
        "pd.cut(importe_imp, 20)"
      ],
      "execution_count": 240,
      "outputs": [
        {
          "output_type": "execute_result",
          "data": {
            "text/plain": [
              "0        (-27499.99, 1375000.01]\n",
              "2        (-27499.99, 1375000.01]\n",
              "3        (-27499.99, 1375000.01]\n",
              "5        (-27499.99, 1375000.01]\n",
              "6        (-27499.99, 1375000.01]\n",
              "                  ...           \n",
              "57792    (-27499.99, 1375000.01]\n",
              "57793    (-27499.99, 1375000.01]\n",
              "57794    (-27499.99, 1375000.01]\n",
              "57797    (-27499.99, 1375000.01]\n",
              "57798    (-27499.99, 1375000.01]\n",
              "Name: cto_total, Length: 42617, dtype: category\n",
              "Categories (20, interval[float64]): [(-27499.99, 1375000.01] < (1375000.01, 2750000.009] <\n",
              "                                     (2750000.009, 4125000.008] < (4125000.008, 5500000.008] < ... <\n",
              "                                     (22000000.002, 23375000.002] < (23375000.002, 24750000.001] <\n",
              "                                     (24750000.001, 26125000.0] < (26125000.0, 27500000.0]]"
            ]
          },
          "metadata": {
            "tags": []
          },
          "execution_count": 240
        }
      ]
    },
    {
      "cell_type": "code",
      "metadata": {
        "colab": {
          "base_uri": "https://localhost:8080/"
        },
        "id": "DVWLnMnh5Cm_",
        "outputId": "eb5a983b-1db4-450b-bb89-b70d3e530d71"
      },
      "source": [
        "segmentos = pd.cut(importe_imp, 20)\n",
        "\n",
        "df_mxn['cto_total'].groupby(segmentos).count()"
      ],
      "execution_count": 241,
      "outputs": [
        {
          "output_type": "execute_result",
          "data": {
            "text/plain": [
              "cto_total\n",
              "(-27499.99, 1375000.01]         42499\n",
              "(1375000.01, 2750000.009]          54\n",
              "(2750000.009, 4125000.008]         28\n",
              "(4125000.008, 5500000.008]          6\n",
              "(5500000.008, 6875000.007]          2\n",
              "(6875000.007, 8250000.007]          3\n",
              "(8250000.007, 9625000.006]          5\n",
              "(9625000.006, 11000000.006]         2\n",
              "(11000000.006, 12375000.005]        1\n",
              "(12375000.005, 13750000.005]        1\n",
              "(13750000.005, 15125000.004]        2\n",
              "(15125000.004, 16500000.004]        2\n",
              "(16500000.004, 17875000.004]        4\n",
              "(17875000.004, 19250000.003]        3\n",
              "(19250000.003, 20625000.002]        2\n",
              "(20625000.002, 22000000.002]        0\n",
              "(22000000.002, 23375000.002]        0\n",
              "(23375000.002, 24750000.001]        1\n",
              "(24750000.001, 26125000.0]          1\n",
              "(26125000.0, 27500000.0]            1\n",
              "Name: cto_total, dtype: int64"
            ]
          },
          "metadata": {
            "tags": []
          },
          "execution_count": 241
        }
      ]
    }
  ]
}